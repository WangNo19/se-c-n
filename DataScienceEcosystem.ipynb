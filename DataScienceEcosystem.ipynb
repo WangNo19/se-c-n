{
 "cells": [
  {
   "cell_type": "markdown",
   "id": "4da5ea74",
   "metadata": {},
   "source": [
    "# Data science Tools and Ecosystesm"
   ]
  },
  {
   "cell_type": "markdown",
   "id": "33dd2eec",
   "metadata": {},
   "source": [
    "In this notebook, an overview of Data Science Tools and Ecosystem is provided."
   ]
  },
  {
   "cell_type": "markdown",
   "id": "5bc4c248",
   "metadata": {},
   "source": [
    "Some of the popular languages that Data Scientists use are:\n",
    "1. Python\n",
    "2. R\n",
    "3. SQL"
   ]
  },
  {
   "cell_type": "markdown",
   "id": "779419c3",
   "metadata": {},
   "source": [
    "**Objectives:**\n",
    "\n",
    "- List popular languages for Data Science\n",
    "- Identify common libraries used in Data Science\n",
    "- Describe the Data Science lifecycle\n",
    "- Explain the role of tools and software in Data Science\n",
    "- Summarize key steps in data preprocessing and analysis\n"
   ]
  },
  {
   "cell_type": "markdown",
   "id": "f828dedd",
   "metadata": {},
   "source": [
    "Some of the commonly used libraries used by Data Scientists include:\n",
    "1. Pandas\n",
    "2. Matplotlib\n",
    "3. Numpy"
   ]
  },
  {
   "cell_type": "markdown",
   "id": "029da70c",
   "metadata": {},
   "source": [
    "\n",
    "| DS Tools         |\n",
    "|------------------|\n",
    "| Jupyter Notebook |\n",
    "| VSCode           |\n",
    "| Google Colab     |"
   ]
  },
  {
   "cell_type": "markdown",
   "id": "33dbc4e9",
   "metadata": {},
   "source": [
    "### Below are a few examples of evaluating arithmetic expressions in Python:"
   ]
  },
  {
   "cell_type": "code",
   "execution_count": 4,
   "id": "2adad222",
   "metadata": {},
   "outputs": [
    {
     "data": {
      "text/plain": [
       "17"
      ]
     },
     "execution_count": 4,
     "metadata": {},
     "output_type": "execute_result"
    }
   ],
   "source": [
    "# This is a simple arithmetic expression to multiply then add integers\n",
    "(3 * 4) + 5\n"
   ]
  },
  {
   "cell_type": "code",
   "execution_count": 5,
   "id": "9da59cfe",
   "metadata": {},
   "outputs": [
    {
     "data": {
      "text/plain": [
       "3.3333333333333335"
      ]
     },
     "execution_count": 5,
     "metadata": {},
     "output_type": "execute_result"
    }
   ],
   "source": [
    "#This will convert 200 minutes to hours by diving by 60\n",
    "200/60"
   ]
  },
  {
   "cell_type": "markdown",
   "id": "0325ad9a",
   "metadata": {},
   "source": [
    "## Author\n",
    "  Wang"
   ]
  }
 ],
 "metadata": {
  "kernelspec": {
   "display_name": "Python 3 (ipykernel)",
   "language": "python",
   "name": "python3"
  },
  "language_info": {
   "codemirror_mode": {
    "name": "ipython",
    "version": 3
   },
   "file_extension": ".py",
   "mimetype": "text/x-python",
   "name": "python",
   "nbconvert_exporter": "python",
   "pygments_lexer": "ipython3",
   "version": "3.11.5"
  }
 },
 "nbformat": 4,
 "nbformat_minor": 5
}
